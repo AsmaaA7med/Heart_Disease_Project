{
 "cells": [
  {
   "cell_type": "code",
   "execution_count": 2,
   "id": "e3418724",
   "metadata": {},
   "outputs": [
    {
     "name": "stdout",
     "output_type": "stream",
     "text": [
      "Current X columns: ['ca_2.0', 'ca_3.0', 'slope_2.0', 'cp_3.0', 'thal_7.0', 'sex_0.0', 'restecg_0.0', 'cp_4.0', 'exang_0.0', 'slope_1.0', 'exang_1.0', 'ca_0.0', 'thal_3.0']\n"
     ]
    }
   ],
   "source": [
    "print(\"Current X columns:\", X.columns.tolist())\n"
   ]
  },
  {
   "cell_type": "code",
   "execution_count": 4,
   "id": "4c44735c",
   "metadata": {},
   "outputs": [
    {
     "name": "stdout",
     "output_type": "stream",
     "text": [
      "✅ Final pipeline saved in deployment/heart_disease_pipeline.pkl\n",
      "Sample input:\n",
      "     age  sex   cp  trestbps   chol  fbs  restecg  thalach  exang  oldpeak  \\\n",
      "0  63.0  1.0  1.0     145.0  233.0  1.0      2.0    150.0    0.0      2.3   \n",
      "\n",
      "   slope   ca thal  \n",
      "0    3.0  0.0  6.0  \n",
      "Prediction: No Disease\n",
      "Probability of Disease: 0.2650236454514838\n"
     ]
    }
   ],
   "source": [
    "import pandas as pd\n",
    "import joblib\n",
    "import os\n",
    "from sklearn.pipeline import Pipeline\n",
    "\n",
    "# ===== Load raw clean data =====\n",
    "df = pd.read_csv(\"data/heart_disease_clean.csv\")\n",
    "\n",
    "# Convert target to binary\n",
    "df[\"target\"] = df[\"target\"].apply(lambda x: 1 if x > 0 else 0)\n",
    "\n",
    "X = df.drop(\"target\", axis=1)\n",
    "y = df[\"target\"]\n",
    "\n",
    "# ===== Load preprocessor & best model =====\n",
    "preprocessor = joblib.load(\"models/preprocessor.pkl\")\n",
    "best_model = joblib.load(\"models/RandomForest_best.pkl\")  # أو غيره حسب الأفضل\n",
    "\n",
    "# ===== Build final pipeline =====\n",
    "final_pipeline = Pipeline([\n",
    "    (\"preprocessing\", preprocessor),\n",
    "    (\"classifier\", best_model)\n",
    "])\n",
    "\n",
    "final_pipeline.fit(X, y)\n",
    "\n",
    "# ===== Save pipeline =====\n",
    "os.makedirs(\"deployment\", exist_ok=True)\n",
    "joblib.dump(final_pipeline, \"deployment/heart_disease_pipeline.pkl\")\n",
    "\n",
    "print(\"✅ Final pipeline saved in deployment/heart_disease_pipeline.pkl\")\n",
    "\n",
    "# ===== Test prediction =====\n",
    "sample = X.iloc[[0]]  # أول مريض في الداتا\n",
    "prediction = final_pipeline.predict(sample)[0]\n",
    "proba = final_pipeline.predict_proba(sample)[0, 1]\n",
    "\n",
    "print(\"Sample input:\\n\", sample)\n",
    "print(\"Prediction:\", \"Disease\" if prediction == 1 else \"No Disease\")\n",
    "print(\"Probability of Disease:\", proba)\n"
   ]
  }
 ],
 "metadata": {
  "kernelspec": {
   "display_name": ".venv",
   "language": "python",
   "name": "python3"
  },
  "language_info": {
   "codemirror_mode": {
    "name": "ipython",
    "version": 3
   },
   "file_extension": ".py",
   "mimetype": "text/x-python",
   "name": "python",
   "nbconvert_exporter": "python",
   "pygments_lexer": "ipython3",
   "version": "3.12.2"
  }
 },
 "nbformat": 4,
 "nbformat_minor": 5
}
